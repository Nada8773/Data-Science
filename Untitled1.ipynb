{
 "cells": [
  {
   "cell_type": "code",
   "execution_count": 3,
   "metadata": {
    "collapsed": false
   },
   "outputs": [],
   "source": [
    "import pandas as pd\n",
    "import numpy as np\n",
    "from nltk.corpus import stopwords\n",
    "import re\n",
    "import nltk\n",
    "from gensim.models import Word2Vec\n",
    "import pickle\n",
    "from sklearn.model_selection import train_test_split\n",
    "from sklearn.metrics import accuracy_score\n",
    "from scikitplot.metrics import plot_confusion_matrix\n",
    "from sklearn.decomposition import TruncatedSVD\n",
    "from xgboost import XGBClassifier\n",
    "import matplotlib.pyplot as plt"
   ]
  },
  {
   "cell_type": "code",
   "execution_count": 4,
   "metadata": {
    "collapsed": true
   },
   "outputs": [],
   "source": [
    "class MeanEmbeddingVectorizer(object):\n",
    "    def __init__(self, word2vec):\n",
    "        self.word2vec = word2vec\n",
    "        # if a text is empty we should return a vector of zeros\n",
    "        # with the same dimensionality as all the other vectors\n",
    "        self.dim = len(word2vec.wv.syn0[0])\n",
    "\n",
    "    def fit(self, X, y):\n",
    "        return self\n",
    "\n",
    "    def transform(self, X):\n",
    "        return np.array([\n",
    "            np.mean([self.word2vec[w] for w in words if w in self.word2vec]\n",
    "                    or [np.zeros(self.dim)], axis=0)\n",
    "            for words in X\n",
    "        ])\n",
    "\n",
    "    def fit_transform(self, X, y=None):\n",
    "        return self.transform(X)\n"
   ]
  },
  {
   "cell_type": "code",
   "execution_count": 9,
   "metadata": {
    "collapsed": false
   },
   "outputs": [
    {
     "name": "stderr",
     "output_type": "stream",
     "text": [
      "C:\\Users\\ZAS\\Anaconda3\\lib\\site-packages\\ipykernel\\__main__.py:1: ParserWarning: Falling back to the 'python' engine because the 'c' engine does not support regex separators (separators > 1 char and different from '\\s+' are interpreted as regex); you can avoid this warning by specifying engine='python'.\n",
      "  if __name__ == '__main__':\n",
      "C:\\Users\\ZAS\\Anaconda3\\lib\\site-packages\\ipykernel\\__main__.py:4: ParserWarning: Falling back to the 'python' engine because the 'c' engine does not support regex separators (separators > 1 char and different from '\\s+' are interpreted as regex); you can avoid this warning by specifying engine='python'.\n"
     ]
    }
   ],
   "source": [
    "df_train_txt = pd.read_csv('training_text', sep='\\|\\|', header=None, skiprows=1, names=[\"ID\", \"Text\"])\n",
    "df_train_var = pd.read_csv('training_variants')\n",
    "\n",
    "df_test_txt = pd.read_csv('test_text', sep='\\|\\|', header=None, skiprows=1, names=[\"ID\", \"Text\"])\n",
    "df_test_var = pd.read_csv('test_variants')\n",
    "df_train = pd.merge(df_train_var, df_train_txt, how='left', on='ID')\n",
    "df_train_data = df_train.to_csv('filtered_train.csv')        \n",
    "       \n",
    "   "
   ]
  },
  {
   "cell_type": "code",
   "execution_count": 14,
   "metadata": {
    "collapsed": false
   },
   "outputs": [
    {
     "name": "stderr",
     "output_type": "stream",
     "text": [
      "C:\\Users\\ZAS\\Anaconda3\\lib\\site-packages\\ipykernel\\__main__.py:6: DeprecationWarning: Call to deprecated `syn0` (Attribute will be removed in 4.0.0, use self.wv.vectors instead).\n",
      "C:\\Users\\ZAS\\Anaconda3\\lib\\site-packages\\ipykernel\\__main__.py:13: DeprecationWarning: Call to deprecated `__contains__` (Method will be removed in 4.0.0, use self.wv.__contains__() instead).\n",
      "C:\\Users\\ZAS\\Anaconda3\\lib\\site-packages\\ipykernel\\__main__.py:13: DeprecationWarning: Call to deprecated `__getitem__` (Method will be removed in 4.0.0, use self.wv.__getitem__() instead).\n"
     ]
    }
   ],
   "source": [
    "data = pd.read_csv('filtered_train.csv')\n",
    "df = pd.DataFrame(data)\n",
    "extrawords = ['figure', 'fig', 'author']\n",
    "stop_words = stopwords.words('english') + extrawords\n",
    "tokenized_data = [nltk.word_tokenize(re.sub(r'[^\\w\\s]', '', sent).lower()) for sent in str(df['Text'])]\n",
    "filtered_data = [[w for w in sent if w not in stop_words] for sent in tokenized_data]        \n",
    "model = Word2Vec(filtered_data, size=100, window=5, min_count=5, workers=4)\n",
    "MeanEmbedding = MeanEmbeddingVectorizer(model)\n",
    "x = MeanEmbedding.fit_transform(filtered_data)        \n",
    "pickle.dump(x, open('xvectors.p', 'wb'))\n",
    "\n",
    "    \n"
   ]
  },
  {
   "cell_type": "code",
   "execution_count": 20,
   "metadata": {
    "collapsed": false
   },
   "outputs": [],
   "source": [
    "\n",
    "data = pd.read_csv('filtered_train.csv')\n",
    "df = pd.DataFrame(data)\n",
    "\n",
    "one_hot_gene = pd.get_dummies(df['Gene'])\n",
    "svd = TruncatedSVD(n_components=25, n_iter=25, random_state=42)\n",
    "truncated_one_hot_gene = svd.fit_transform(one_hot_gene.values)\n",
    "\n",
    "one_hot_variation = pd.get_dummies(df['Variation'])\n",
    "svd = TruncatedSVD(n_components=25, n_iter=25, random_state=42)\n",
    "truncated_one_hot_variation = svd.fit_transform(one_hot_variation.values)\n",
    "\n",
    "xtrain = pickle.load(open('xvectors.p', 'rb')) # text words after the vectorization\n",
    "Y = df['Class'].values # label to predict\n",
    "\n",
    "x = np.hstack((xtrain[:3321], truncated_one_hot_gene[:3321], truncated_one_hot_variation[:3321]))\n",
    "pickle.dump(x, open('xtrainstack.p', 'wb'))\n",
    "        # split test and train data\n",
    "x_train, x_test, y_train, y_test = train_test_split(x, Y, test_size=0.2, stratify=Y\n",
    "                                                                                , random_state=12)\n",
    "        "
   ]
  },
  {
   "cell_type": "code",
   "execution_count": 21,
   "metadata": {
    "collapsed": false
   },
   "outputs": [],
   "source": [
    "# ---------------------- XGBOOST -------------------\n",
    "\n",
    "        # n_estimate : Number of boosted trees to fit.\n",
    "        # learning_rate : Boosting learning rate\n",
    "clf = XGBClassifier(n_estimators=300, learning_rate=0.05)\n",
    "model = clf.fit(x_train, y_train)\n",
    "\n",
    "pickle.dump(model, open(\"xgboost_gamma-modify(68.6%).p\", \"wb\"))\n",
    "\n",
    "        \n",
    "data = pd.read_csv('filtered_train.csv')\n",
    "df = pd.DataFrame(data)\n",
    "\n",
    "model = pickle.load(open('xgboost_gamma-modify(68.6%).p', 'rb'))\n",
    "\n",
    "x = pickle.load(open('xtrainstack.p', 'rb'))\n",
    "Y = df['Class'].values\n",
    "\n",
    "x_train, x_test,y_train, y_test = train_test_split(x, Y, test_size=0.2, stratify=Y, random_state=12)\n",
    "\n",
    "                                                                                \n"
   ]
  },
  {
   "cell_type": "code",
   "execution_count": 22,
   "metadata": {
    "collapsed": false
   },
   "outputs": [
    {
     "name": "stdout",
     "output_type": "stream",
     "text": [
      "0.566917293233\n"
     ]
    },
    {
     "data": {
      "image/png": "[encoded data removed]",
      "text/plain": [
       "<matplotlib.figure.Figure at 0x24c0a7a0fd0>"
      ]
     },
     "metadata": {},
     "output_type": "display_data"
    }
   ],
   "source": [
    "from sklearn.metrics import accuracy_score\n",
    "import matplotlib.pyplot as plt\n",
    "preds = model.predict(x_test)\n",
    "score = accuracy_score(y_test, preds)\n",
    "print(score)\n",
    "plot_confusion_matrix(y_test, preds)\n",
    "plt.show()"
   ]
  },
  {
   "cell_type": "code",
   "execution_count": null,
   "metadata": {
    "collapsed": false
   },
   "outputs": [],
   "source": []
  },
  {
   "cell_type": "code",
   "execution_count": null,
   "metadata": {
    "collapsed": false
   },
   "outputs": [],
   "source": []
  },
  {
   "cell_type": "code",
   "execution_count": null,
   "metadata": {
    "collapsed": false
   },
   "outputs": [],
   "source": []
  },
  {
   "cell_type": "code",
   "execution_count": null,
   "metadata": {
    "collapsed": true
   },
   "outputs": [],
   "source": []
  },
  {
   "cell_type": "code",
   "execution_count": null,
   "metadata": {
    "collapsed": false
   },
   "outputs": [],
   "source": []
  },
  {
   "cell_type": "code",
   "execution_count": null,
   "metadata": {
    "collapsed": false
   },
   "outputs": [],
   "source": []
  },
  {
   "cell_type": "code",
   "execution_count": null,
   "metadata": {
    "collapsed": true
   },
   "outputs": [],
   "source": []
  },
  {
   "cell_type": "code",
   "execution_count": null,
   "metadata": {
    "collapsed": false
   },
   "outputs": [],
   "source": []
  },
  {
   "cell_type": "code",
   "execution_count": null,
   "metadata": {
    "collapsed": false
   },
   "outputs": [],
   "source": []
  },
  {
   "cell_type": "code",
   "execution_count": null,
   "metadata": {
    "collapsed": false
   },
   "outputs": [],
   "source": []
  },
  {
   "cell_type": "code",
   "execution_count": null,
   "metadata": {
    "collapsed": true
   },
   "outputs": [],
   "source": []
  },
  {
   "cell_type": "code",
   "execution_count": null,
   "metadata": {
    "collapsed": false
   },
   "outputs": [],
   "source": []
  },
  {
   "cell_type": "code",
   "execution_count": null,
   "metadata": {
    "collapsed": true
   },
   "outputs": [],
   "source": []
  }
 ],
 "metadata": {
  "kernelspec": {
   "display_name": "Python 3",
   "language": "python",
   "name": "python3"
  },
  "language_info": {
   "codemirror_mode": {
    "name": "ipython",
    "version": 3
   },
   "file_extension": ".py",
   "mimetype": "text/x-python",
   "name": "python",
   "nbconvert_exporter": "python",
   "pygments_lexer": "ipython3",
   "version": "3.6.0"
  }
 },
 "nbformat": 4,
 "nbformat_minor": 2
}
